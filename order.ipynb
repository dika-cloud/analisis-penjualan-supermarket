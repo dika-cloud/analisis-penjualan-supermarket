{
 "cells": [
  {
   "cell_type": "code",
   "execution_count": 2,
   "id": "f51aa529-89e9-4a13-aec9-38c83623d2cc",
   "metadata": {},
   "outputs": [
    {
     "name": "stdout",
     "output_type": "stream",
     "text": [
      "payment_type\n",
      "credit card        2587500.0\n",
      "debit card         2621500.0\n",
      "e-wallet           2589000.0\n",
      "virtual account    2643000.0\n",
      "Name: price, dtype: float64\n"
     ]
    }
   ],
   "source": [
    "import pandas as pd\n",
    "import matplotlib.pyplot as plt\n",
    "order_df = pd.read_csv(\"order.csv\")\n",
    "# Median price yang dibayar customer dari masing-masing metode pembayaran. \n",
    "median_price = order_df[\"price\"].groupby(order_df[\"payment_type\"]).median()\n",
    "print(median_price)\n"
   ]
  },
  {
   "cell_type": "code",
   "execution_count": 3,
   "id": "f7a78f15-0246-4f3b-80c4-0c9fe8b55873",
   "metadata": {},
   "outputs": [
    {
     "name": "stdout",
     "output_type": "stream",
     "text": [
      "                               order_id  quantity  \\\n",
      "27220  41a207671f292d00ffea01b171f2a30b         1   \n",
      "25006  4e64db31eb34a4e6c86235fedead69eb         1   \n",
      "48803  588d8a3645cd2c4d3b9773d212a185e5         1   \n",
      "25072  a7a43f469c0d7bdb0a23a82db125aefa         1   \n",
      "20407  852b442a5bc38e624ea9f60305418cea         1   \n",
      "...                                 ...       ...   \n",
      "5651   217bb07ca5be930bc84e050acb4817c2         1   \n",
      "4558   f0fc39347a86802c8df13bde9111b01a         1   \n",
      "33858  724d428017f2d1e905e1e695296e90f5         1   \n",
      "1350   90207c312f193fbd229671833bf08d47         1   \n",
      "30807  95d1d57cd27cd0857ef85f53ad2ed3b8         1   \n",
      "\n",
      "                             product_id    price  \\\n",
      "27220  7703b8cb5b77fbb36518ea91e2ca734f  3645000   \n",
      "25006  f3663060e64c25fba789fe033263da67  2727000   \n",
      "48803  20332c1e41e427864b3561a657caaf0d  1633000   \n",
      "25072  5eb564652db742ff8f28759cd8d2652a  4380000   \n",
      "20407  01f76c07f91a533acd46cc6ab989be23  3278000   \n",
      "...                                 ...      ...   \n",
      "5651   5a6e53c3b4e8684b13388d6aa4afdf12  2990000   \n",
      "4558   d6be8874a210252bd164fadd394d9e95  2190000   \n",
      "33858  5264bb8a8395e30c0d59ac73be2c7613  1717000   \n",
      "1350   4c35791f944cf1550e8ae288b3f9e258  1816000   \n",
      "30807  780d24bfcf24b143f013354507158385  3035000   \n",
      "\n",
      "                              seller_id  shipping_cost  \\\n",
      "27220  6560211a19b47992c3666cc44a7e94c0         200000   \n",
      "25006  4e922959ae960d389249c378d1c939f5         200000   \n",
      "48803  fa1c13f2614d7b5c4749cbc52fecda94         200000   \n",
      "25072  4e922959ae960d389249c378d1c939f5         200000   \n",
      "20407  7142540dd4c91e2237acb7e911c4eba2         200000   \n",
      "...                                 ...            ...   \n",
      "5651   7299e27ed73d2ad986de7f7c77d919fa           9000   \n",
      "4558   7a67c85e85bb2ce8582c35f2203ad736           9000   \n",
      "33858  2138ccb85b11a4ec1e37afbd1c8eda1f           9000   \n",
      "1350   79ee721b6f766066a80264402548d359           9000   \n",
      "30807  e9d99831abad74458942f21e16f33f92           9000   \n",
      "\n",
      "                            customer_id order_status purchase_date  \\\n",
      "27220  3619df7a89a873ba249bf47e9fc6ed2c    delivered    2017-09-04   \n",
      "25006  046b12442afd04050724f9e956abe30c    delivered    2017-08-21   \n",
      "48803  d0c8dedcb2e16a6245f6a9f836385068    delivered    2017-12-11   \n",
      "25072  d7c95dc1ece116c14188092ead3d0951    delivered    2017-08-21   \n",
      "20407  2cadd739d6836feeb65364203eb87e68    delivered    2017-07-23   \n",
      "...                                 ...          ...           ...   \n",
      "5651   41998b889bd03ec46e076f951c3879db    delivered    2017-03-24   \n",
      "4558   ced8cf14f3a428194fe15bb151edec3d    delivered    2017-03-13   \n",
      "33858  3d7ef278f0cc7f7dccf8cc0ca24c8155    delivered    2017-10-13   \n",
      "1350   f66491ab775d85d3a33e23dfee765c38   processing    2017-02-01   \n",
      "30807  d47db9098abd035789999ed3185fb607    delivered    2017-09-25   \n",
      "\n",
      "          payment_type product_category_name  product_weight_gram  \n",
      "27220         e-wallet                beauty                250.0  \n",
      "25006       debit card            automotive                410.0  \n",
      "48803       debit card           electronics                700.0  \n",
      "25072       debit card               fashion                  NaN  \n",
      "20407      credit card                beauty                750.0  \n",
      "...                ...                   ...                  ...  \n",
      "5651          e-wallet             utilities                200.0  \n",
      "4558   virtual account                  toys                700.0  \n",
      "33858         e-wallet                  toys                 83.0  \n",
      "1350   virtual account           electronics                424.0  \n",
      "30807         e-wallet           electronics                600.0  \n",
      "\n",
      "[49999 rows x 12 columns]\n"
     ]
    }
   ],
   "source": [
    "# Ubah freight_value menjadi shipping_cost dan cari shipping_cost \n",
    "# termahal dari data penjualan tersebut menggunakan sort.\n",
    "order_df.rename(columns={\"freight_value\": \"shipping_cost\"}, inplace=True)\n",
    "sort_value = order_df.sort_values(by=\"shipping_cost\", ascending=0)\n",
    "print(sort_value)\n"
   ]
  },
  {
   "cell_type": "code",
   "execution_count": 4,
   "id": "3aa50e7b-2bac-41e0-ab97-6c6f1d9db1ec",
   "metadata": {},
   "outputs": [
    {
     "name": "stdout",
     "output_type": "stream",
     "text": [
      "product_category_name\n",
      "beauty         2120.088396\n",
      "automotive     2129.559039\n",
      "electronics    2144.751191\n",
      "toys           2203.863643\n",
      "gadget         2229.632942\n",
      "fashion        2246.516901\n",
      "sports         2251.879909\n",
      "utilities      2291.029868\n",
      "Name: product_weight_gram, dtype: float64\n",
      "product_category_name\n",
      "automotive     3799.884166\n",
      "beauty         3837.474929\n",
      "electronics    3839.271768\n",
      "fashion        3858.885213\n",
      "gadget         3955.792741\n",
      "toys           3956.814749\n",
      "sports         4032.850044\n",
      "utilities      4150.509909\n",
      "Name: product_weight_gram, dtype: float64\n"
     ]
    }
   ],
   "source": [
    "# Untuk product_category_name, berapa  rata-rata weight produk tersebut \n",
    "# dan standar deviasi mana yang terkecil dari weight tersebut, \n",
    "mean_value = order_df[\"product_weight_gram\"].groupby(order_df[\"product_category_name\"]).mean()\n",
    "print(mean_value.sort_values())\n",
    "std_value = order_df[\"product_weight_gram\"].groupby(order_df[\"product_category_name\"]).std()\n",
    "print(std_value.sort_values())\n"
   ]
  },
  {
   "cell_type": "code",
   "execution_count": 5,
   "id": "c9d2bb2e-409f-48d8-a6fa-844f220fe007",
   "metadata": {},
   "outputs": [
    {
     "data": {
      "image/png": "[encoded data removed]",
      "text/plain": [
       "<Figure size 400x500 with 1 Axes>"
      ]
     },
     "metadata": {},
     "output_type": "display_data"
    }
   ],
   "source": [
    "# Buat histogram quantity penjualan dari dataset tersebutuntuk melihat persebaran quantity \n",
    "# penjualan tersebut dengan bins = 5 dan figsize= (4,5)\n",
    "order_df[[\"quantity\"]].hist(figsize=(4, 5), bins=5)\n",
    "plt.show()"
   ]
  }
 ],
 "metadata": {
  "kernelspec": {
   "display_name": "Python 3 (ipykernel)",
   "language": "python",
   "name": "python3"
  },
  "language_info": {
   "codemirror_mode": {
    "name": "ipython",
    "version": 3
   },
   "file_extension": ".py",
   "mimetype": "text/x-python",
   "name": "python",
   "nbconvert_exporter": "python",
   "pygments_lexer": "ipython3",
   "version": "3.12.9"
  }
 },
 "nbformat": 4,
 "nbformat_minor": 5
}
